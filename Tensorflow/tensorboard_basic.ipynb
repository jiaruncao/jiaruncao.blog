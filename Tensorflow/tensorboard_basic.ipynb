{
 "cells": [
  {
   "cell_type": "markdown",
   "metadata": {},
   "source": [
    "## Tensorboard 基础\n",
    "使用Tensorboard将Graph和loss可视化，该示例使用了MNIST手写数据集\n",
    "(http://yann.lecun.com/exdb/mnist/).\n",
    "\n",
    "- Author: Aymeric Damien\n",
    "- Project: https://github.com/aymericdamien/TensorFlow-Examples/"
   ]
  },
  {
   "cell_type": "markdown",
   "metadata": {},
   "source": [
    "#### 1. 导入MNIST数据集"
   ]
  },
  {
   "cell_type": "code",
   "execution_count": 1,
   "metadata": {},
   "outputs": [
    {
     "name": "stdout",
     "output_type": "stream",
     "text": [
      "Extracting data/train-images-idx3-ubyte.gz\n",
      "Extracting data/train-labels-idx1-ubyte.gz\n",
      "Extracting data/t10k-images-idx3-ubyte.gz\n",
      "Extracting data/t10k-labels-idx1-ubyte.gz\n"
     ]
    }
   ],
   "source": [
    "from __future__ import print_function\n",
    "\n",
    "import tensorflow as tf\n",
    "\n",
    "# Import MINST data\n",
    "from tensorflow.examples.tutorials.mnist import input_data\n",
    "mnist = input_data.read_data_sets(\"data/\", one_hot=True)"
   ]
  },
  {
   "cell_type": "markdown",
   "metadata": {},
   "source": [
    "#### 2. 自定义参数"
   ]
  },
  {
   "cell_type": "code",
   "execution_count": 2,
   "metadata": {},
   "outputs": [],
   "source": [
    "#超参数\n",
    "learning_rate = 0.01\n",
    "training_epochs = 25\n",
    "batch_size = 100\n",
    "display_epoch = 1\n",
    "logs_path = 'events/'   #当前目录下创建一个events文件夹以保存Tensorboard文件\n",
    "\n",
    "#TensorFlow Graph输入\n",
    "#MNIST数据的形状:28 * 28 = 784\n",
    "x = tf.placeholder(tf.float32, [None, 784], name='InputData')\n",
    "#0-9个数字作为类别标签\n",
    "y = tf.placeholder(tf.float32, [None, 10], name='LabelData')\n",
    "\n",
    "#设置模型参数\n",
    "W = tf.Variable(tf.zeros([784,10]),name = 'Weights')\n",
    "b = tf.Variable(tf.zeros([10]),name = 'Bias')"
   ]
  },
  {
   "cell_type": "markdown",
   "metadata": {},
   "source": [
    "#### 3. 建立模型"
   ]
  },
  {
   "cell_type": "code",
   "execution_count": 3,
   "metadata": {},
   "outputs": [],
   "source": [
    "#建立模型并将所有的operation封装到一个scope中\n",
    "#从而使得Tensorboard的Graph可视化更加方便\n",
    "with tf.name_scope('Model'):\n",
    "    #模型\n",
    "    pred = tf.nn.softmax(tf.matmul(x,W) + b) \n",
    "with tf.name_scope('Loss'):\n",
    "    #使用交叉熵最小化Loss\n",
    "    cost = tf.reduce_mean(-tf.reduce_sum(y * tf.log(pred),reduction_indices=1))\n",
    "with tf.name_scope('SGD'):\n",
    "    #梯度下降\n",
    "    optimizer = tf.train.GradientDescentOptimizer(learning_rate=learning_rate).minimize(cost)\n",
    "with tf.name_scope('Accuracy'):\n",
    "    acc = tf.equal(tf.argmax(pred,1),tf.argmax(y,1))\n",
    "    acc = tf.reduce_mean(tf.cast(acc,tf.float32))\n",
    "\n",
    "    \n",
    "#初始化变量\n",
    "init = tf.global_variables_initializer()\n",
    "\n",
    "#创建一个summary来监控cost \n",
    "tf.summary.scalar('loss',cost)\n",
    "#创建一个summary来监控accuracy \n",
    "tf.summary.scalar('accuracy',acc)\n",
    "#将所有的summary合并为一个Operation\n",
    "merged_summary_op = tf.summary.merge_all()\n",
    "    "
   ]
  },
  {
   "cell_type": "markdown",
   "metadata": {},
   "source": [
    "#### 4. 训练模型"
   ]
  },
  {
   "cell_type": "code",
   "execution_count": 4,
   "metadata": {},
   "outputs": [
    {
     "name": "stdout",
     "output_type": "stream",
     "text": [
      "Epoch: 0001 cost= 1.183988077\n",
      "Epoch: 0002 cost= 0.665380242\n",
      "Epoch: 0003 cost= 0.552933572\n",
      "Epoch: 0004 cost= 0.498747118\n",
      "Epoch: 0005 cost= 0.465548007\n",
      "Epoch: 0006 cost= 0.442622204\n",
      "Epoch: 0007 cost= 0.425540524\n",
      "Epoch: 0008 cost= 0.412230093\n",
      "Epoch: 0009 cost= 0.401390533\n",
      "Epoch: 0010 cost= 0.392406998\n",
      "Epoch: 0011 cost= 0.384808946\n",
      "Epoch: 0012 cost= 0.378173454\n",
      "Epoch: 0013 cost= 0.372396935\n",
      "Epoch: 0014 cost= 0.367290784\n",
      "Epoch: 0015 cost= 0.362745545\n",
      "Epoch: 0016 cost= 0.358620725\n",
      "Epoch: 0017 cost= 0.354896377\n",
      "Epoch: 0018 cost= 0.351507486\n",
      "Epoch: 0019 cost= 0.348323458\n",
      "Epoch: 0020 cost= 0.345402256\n",
      "Epoch: 0021 cost= 0.342800388\n",
      "Epoch: 0022 cost= 0.340259916\n",
      "Epoch: 0023 cost= 0.337950383\n",
      "Epoch: 0024 cost= 0.335762308\n",
      "Epoch: 0025 cost= 0.333713121\n",
      "训练结束!\n",
      "Accuracy: 0.9132\n",
      "运行命令行:\n",
      "--> tensorboard --logdir=/tmp/tensorflow_logs \n",
      "然后打开在浏览器中打开： http://0.0.0.0:6006/ \n"
     ]
    }
   ],
   "source": [
    "#开始训练\n",
    "with tf.Session() as sess:\n",
    "    sess.run(init)\n",
    "    \n",
    "    #将日志写入Tensorboard\n",
    "    summary_writer = tf.summary.FileWriter(logs_path,graph = tf.get_default_graph())\n",
    "    \n",
    "    #训练循环\n",
    "    for epoch in range(training_epochs):\n",
    "        avg_cost = 0.\n",
    "        total_batch = int(mnist.train.num_examples / batch_size)\n",
    "        # 遍历所有的batch\n",
    "        for i in range(total_batch):\n",
    "            batch_xs , batch_ys = mnist.train.next_batch(batch_size)\n",
    "            #运行optimization,loss,summary的operation\n",
    "            _, c, summary = sess.run([optimizer, cost, merged_summary_op],\n",
    "                                     feed_dict={x: batch_xs,y: batch_ys})\n",
    "            #每次迭代都写入日志\n",
    "            summary_writer.add_summary(summary,epoch * total_batch + i)\n",
    "            #计算loss均值\n",
    "            avg_cost += c / total_batch\n",
    "        #每个epoch显示logs\n",
    "        if (epoch+1) % display_epoch == 0:\n",
    "            print(\"Epoch:\", '%04d' % (epoch+1), \"cost=\", \"{:.9f}\".format(avg_cost))\n",
    "\n",
    "    print(\"训练结束!\")\n",
    "    \n",
    "    # 测试模型\n",
    "    # 计算精准度\n",
    "    print(\"Accuracy:\", acc.eval({x: mnist.test.images, y: mnist.test.labels}))\n",
    "\n",
    "    print(\"运行命令行:\\n\" \\\n",
    "          \"--> tensorboard --logdir=/tmp/tensorflow_logs \" \\\n",
    "          \"\\n然后打开在浏览器中打开： http://0.0.0.0:6006/ \")"
   ]
  },
  {
   "cell_type": "markdown",
   "metadata": {},
   "source": [
    "### 补充1：\n",
    "上述代码在使用IPython或Jupyter时，可能会出现了以下错误：  \n",
    "`[[Node: inputs/x_input = Placeholder[dtype=DT_FLOAT, shape=[], _device=\"/job:localhost/replica:0/task:0/cpu:0\"]()]]`  \n",
    "这个错误和dtype没有关系。目前个人理解为是当前路径下不能存在一个以上的events文件。解决方案有以下几个：  \n",
    "1. 到存储的路径下把之前生成的文件给删了； \n",
    "2. 在operation代码前加上`tf.reset_default_graph()`"
   ]
  },
  {
   "cell_type": "markdown",
   "metadata": {},
   "source": [
    "### 补充2：\n",
    "在使用命令行`tensorboard --logdir='PATH'`的时候，使用绝对路径，且路径名不要出现中文"
   ]
  },
  {
   "cell_type": "code",
   "execution_count": null,
   "metadata": {},
   "outputs": [],
   "source": []
  }
 ],
 "metadata": {
  "kernelspec": {
   "display_name": "Python 3",
   "language": "python",
   "name": "python3"
  },
  "language_info": {
   "codemirror_mode": {
    "name": "ipython",
    "version": 3
   },
   "file_extension": ".py",
   "mimetype": "text/x-python",
   "name": "python",
   "nbconvert_exporter": "python",
   "pygments_lexer": "ipython3",
   "version": "3.6.3"
  }
 },
 "nbformat": 4,
 "nbformat_minor": 2
}
