{
 "cells": [
  {
   "cell_type": "markdown",
   "metadata": {},
   "source": [
    "## 自编码器(Auto-Encoder)实例\n",
    "使用TensorFlow创建一个2层的自解码网络，将图像压缩到一个潜在的低维空间，然后再恢复它  \n",
    "  \n",
    "- 作者: Aymeric Damien\n",
    "- 代码: https://github.com/aymericdamien/TensorFlow-Examples/"
   ]
  },
  {
   "cell_type": "markdown",
   "metadata": {},
   "source": [
    "#### 自编码器简介\n",
    "<img src=\"http://kvfrans.com/content/images/2016/08/autoenc.jpg\" alt=\"ae\" style=\"width: 800px;\"/>\n",
    "参考：  \n",
    "- [Gradient-based learning applied to document recognition](http://yann.lecun.com/exdb/publis/pdf/lecun-01a.pdf). Y. LeCun, L. Bottou, Y. Bengio, and P. Haffner. Proceedings of the IEEE, 86(11):2278-2324, November 1998."
   ]
  },
  {
   "cell_type": "markdown",
   "metadata": {},
   "source": [
    "#### MNIST数据集简介\n",
    "  \n",
    "该例使用了MNIST手写数字数据集。MNIST数据集包含60000个实例，其中50000作为训练集，10000作为测试集。数字的大小已经被标准化和中心化到了固定的(0,1)区间(28\\*28像素)。为了简便起见，每个图像矩阵被平铺，并转换为一个1维的numpy矩阵，其中包含784个特征点(28\\*28)  \n",
    "  \n",
    "![MNIST 数据集](http://neuralnetworksanddeeplearning.com/images/mnist_100_digits.png)  \n",
    "  \n",
    "更多细节：http://yann.lecun.com/exdb/mnist/"
   ]
  },
  {
   "cell_type": "code",
   "execution_count": 1,
   "metadata": {},
   "outputs": [],
   "source": [
    "from __future__ import division,print_function,absolute_import\n",
    "\n",
    "import tensorflow as tf\n",
    "import numpy as np\n",
    "import matplotlib.pyplot as plt\n",
    "%matplotlib inline #将matplotlib绘图嵌入到jupyter notebook中"
   ]
  },
  {
   "cell_type": "markdown",
   "metadata": {},
   "source": [
    "#### 1. 导入MNIST数据集"
   ]
  },
  {
   "cell_type": "code",
   "execution_count": 5,
   "metadata": {},
   "outputs": [
    {
     "name": "stdout",
     "output_type": "stream",
     "text": [
      "Successfully downloaded train-images-idx3-ubyte.gz 9912422 bytes.\n",
      "Extracting data/train-images-idx3-ubyte.gz\n",
      "Successfully downloaded train-labels-idx1-ubyte.gz 28881 bytes.\n",
      "Extracting data/train-labels-idx1-ubyte.gz\n",
      "Successfully downloaded t10k-images-idx3-ubyte.gz 1648877 bytes.\n",
      "Extracting data/t10k-images-idx3-ubyte.gz\n",
      "Successfully downloaded t10k-labels-idx1-ubyte.gz 4542 bytes.\n",
      "Extracting data/t10k-labels-idx1-ubyte.gz\n"
     ]
    }
   ],
   "source": [
    "from tensorflow.examples.tutorials.mnist import input_data\n",
    "mnist = input_data.read_data_sets('data/',one_hot = True) #当前目录下创建一个data文件夹即可"
   ]
  },
  {
   "cell_type": "markdown",
   "metadata": {},
   "source": [
    "#### 2. 自定义参数"
   ]
  },
  {
   "cell_type": "code",
   "execution_count": 8,
   "metadata": {},
   "outputs": [],
   "source": [
    "#训练参数\n",
    "learning_rate = 0.01\n",
    "num_step = 30000\n",
    "batch_size = 256\n",
    "\n",
    "display_step = 1000\n",
    "example_to_show = 10\n",
    "\n",
    "#网络模型参数\n",
    "num_hidden_1 = 256        #第一层的特征数\n",
    "num_hidden_2 = 128        #第二层的特征数\n",
    "num_input = 784           #MNIST的输入值（28*28像素）\n",
    "\n",
    "#tensorflow Graph输入\n",
    "X = tf.placeholder('float',[None,num_input])\n",
    "\n",
    "weights = {\n",
    "    'encoder_h1':tf.Variable(tf.random_normal([num_input,num_hidden_1])),\n",
    "    'encoder_h2':tf.Variable(tf.random_normal([num_hidden_1,num_hidden_2])),\n",
    "    'decoder_h1':tf.Variable(tf.random_normal([num_hidden_2,num_hidden_1])),\n",
    "    'decoder_h2':tf.Variable(tf.random_normal([num_hidden_1,num_input])),\n",
    "}\n",
    "\n",
    "biases = {\n",
    "    'encoder_b1':tf.Variable(tf.random_normal([num_hidden_1])),\n",
    "    'encoder_b2':tf.Variable(tf.random_normal([num_hidden_2])),\n",
    "    'decoder_b1':tf.Variable(tf.random_normal([num_hidden_1])),\n",
    "    'decoder_b2':tf.Variable(tf.random_normal([num_input])),\n",
    "}"
   ]
  },
  {
   "cell_type": "markdown",
   "metadata": {},
   "source": [
    "#### 3. 构建模型"
   ]
  },
  {
   "cell_type": "code",
   "execution_count": 13,
   "metadata": {},
   "outputs": [],
   "source": [
    "#构建编码器\n",
    "def encoder(x):\n",
    "    #编码器第1层使用sigmoid激活函数\n",
    "    layer_1 = tf.nn.sigmoid(tf.add(tf.matmul(x,weights['encoder_h1']),\n",
    "                                  biases['encoder_b1']))\n",
    "    #编码器第2层使用sigmoid激活函数\n",
    "    layer_2 = tf.nn.sigmoid(tf.add(tf.matmul(layer_1,weights['encoder_h2']),\n",
    "                                  biases['encoder_b2']))\n",
    "    return layer_2\n",
    "\n",
    "\n",
    "#构建解码器\n",
    "def decoder(x):\n",
    "    #解码器第1层使用sigmoid激活函数\n",
    "    layer_1 = tf.nn.sigmoid(tf.add(tf.matmul(x,weights['decoder_h1']),\n",
    "                                  biases['decoder_b1']))\n",
    "    #解码器第2层使用sigmoid激活函数\n",
    "    layer_2 = tf.nn.sigmoid(tf.add(tf.matmul(layer_1,weights['decoder_h2']),\n",
    "                                  biases['decoder_b2']))\n",
    "    return layer_2\n",
    "\n",
    "\n",
    "#构建模型\n",
    "encoder_op = encoder(X)\n",
    "decoder_op = decoder(encoder_op)\n",
    "\n",
    "#预测\n",
    "y_pred = decoder_op\n",
    "#目标（标签）是输入数据\n",
    "y_true = X\n",
    "\n",
    "#定义loss函数和优化器，最小化平方误差\n",
    "loss = tf.reduce_mean(tf.pow(y_true - y_pred,2))\n",
    "optimizer = tf.train.RMSPropOptimizer(learning_rate).minimize(loss)\n",
    "\n",
    "#初始化变量(例：赋默认值)\n",
    "init = tf.global_variables_initializer()"
   ]
  },
  {
   "cell_type": "markdown",
   "metadata": {},
   "source": [
    "#### 4. 开始训练"
   ]
  },
  {
   "cell_type": "code",
   "execution_count": 14,
   "metadata": {},
   "outputs": [
    {
     "name": "stdout",
     "output_type": "stream",
     "text": [
      "Step 1: Minibatch Loss: 0.448150\n",
      "Step 1000: Minibatch Loss: 0.146389\n",
      "Step 2000: Minibatch Loss: 0.130988\n",
      "Step 3000: Minibatch Loss: 0.120402\n",
      "Step 4000: Minibatch Loss: 0.112094\n",
      "Step 5000: Minibatch Loss: 0.106828\n",
      "Step 6000: Minibatch Loss: 0.102066\n",
      "Step 7000: Minibatch Loss: 0.100275\n",
      "Step 8000: Minibatch Loss: 0.094173\n",
      "Step 9000: Minibatch Loss: 0.091749\n",
      "Step 10000: Minibatch Loss: 0.089910\n",
      "Step 11000: Minibatch Loss: 0.087164\n",
      "Step 12000: Minibatch Loss: 0.083922\n",
      "Step 13000: Minibatch Loss: 0.082088\n",
      "Step 14000: Minibatch Loss: 0.079559\n",
      "Step 15000: Minibatch Loss: 0.078890\n",
      "Step 16000: Minibatch Loss: 0.076782\n",
      "Step 17000: Minibatch Loss: 0.071964\n",
      "Step 18000: Minibatch Loss: 0.070992\n",
      "Step 19000: Minibatch Loss: 0.068339\n",
      "Step 20000: Minibatch Loss: 0.067033\n",
      "Step 21000: Minibatch Loss: 0.066555\n",
      "Step 22000: Minibatch Loss: 0.064232\n",
      "Step 23000: Minibatch Loss: 0.061629\n",
      "Step 24000: Minibatch Loss: 0.058763\n",
      "Step 25000: Minibatch Loss: 0.060081\n",
      "Step 26000: Minibatch Loss: 0.057991\n",
      "Step 27000: Minibatch Loss: 0.057873\n",
      "Step 28000: Minibatch Loss: 0.057515\n",
      "Step 29000: Minibatch Loss: 0.057997\n",
      "Step 30000: Minibatch Loss: 0.054470\n"
     ]
    }
   ],
   "source": [
    "#定义session\n",
    "sess = tf.Session()\n",
    "\n",
    "#初始化\n",
    "sess.run(init)\n",
    "\n",
    "#训练\n",
    "for i in range(1,num_step+1):\n",
    "    #准备数据\n",
    "    #取MNIST的下一个batch（只需要图像数据，不需要标签）\n",
    "    batch_x , _ =mnist.train.next_batch(batch_size)\n",
    "    \n",
    "    #运行optimizer操作（反向传播）和cost操作\n",
    "    _, l = sess.run([optimizer,loss],feed_dict = {X:batch_x})\n",
    "    \n",
    "    #显示每一个step的loss\n",
    "    if i % display_step == 0 or i == 1:\n",
    "        print ('Step %i: Minibatch Loss: %f'%(i,l))\n"
   ]
  },
  {
   "cell_type": "markdown",
   "metadata": {},
   "source": [
    "#### 5. 模型预测\n",
    "编码器和解码器中的图像都来自于测试集，并且将模型重构的图像做可视化\n"
   ]
  },
  {
   "cell_type": "code",
   "execution_count": 22,
   "metadata": {},
   "outputs": [
    {
     "name": "stdout",
     "output_type": "stream",
     "text": [
      "原图\n"
     ]
    },
    {
     "data": {
      "image/png": "[encoded data removed]",
      "text/plain": [
       "<matplotlib.figure.Figure at 0x11fda7710>"
      ]
     },
     "metadata": {},
     "output_type": "display_data"
    },
    {
     "name": "stdout",
     "output_type": "stream",
     "text": [
      "重构图\n"
     ]
    },
    {
     "data": {
      "image/png": "[encoded data removed]",
      "text/plain": [
       "<matplotlib.figure.Figure at 0x11f9ad3c8>"
      ]
     },
     "metadata": {},
     "output_type": "display_data"
    }
   ],
   "source": [
    "n = 4\n",
    "canvas_orig = np.empty((28 * n, 28 * n))\n",
    "canvas_recon = np.empty((28 * n, 28 * n))\n",
    "for i in range(n):\n",
    "    #MNIST测试集\n",
    "    batch_x,_ = mnist.test.next_batch(n)\n",
    "    #对图像做编解码\n",
    "    g = sess.run(decoder_op,feed_dict = {X:batch_x})\n",
    "    \n",
    "    \n",
    "    #显示原图\n",
    "    for j in range(n):\n",
    "        # 画出生成数字\n",
    "        canvas_orig[i * 28:(i + 1) * 28, j * 28:(j + 1) * 28] = batch_x[j].reshape([28, 28])\n",
    "    #显示重构图像\n",
    "    for j in range(n):\n",
    "        # 画出生成数字\n",
    "        canvas_recon[i * 28:(i + 1) * 28, j * 28:(j + 1) * 28] = g[j].reshape([28, 28])\n",
    "\n",
    "        \n",
    "print(\"原图\")     \n",
    "#plt.figure(figsize=(n, n))\n",
    "plt.imshow(canvas_orig, origin=\"upper\", cmap=\"gray\")\n",
    "plt.show()\n",
    "\n",
    "print(\"重构图\")\n",
    "plt.figure(figsize=(n, n))\n",
    "plt.imshow(canvas_recon, origin=\"upper\", cmap=\"gray\")\n",
    "plt.show()\n",
    "        \n",
    "        \n",
    "        "
   ]
  },
  {
   "cell_type": "code",
   "execution_count": null,
   "metadata": {},
   "outputs": [],
   "source": []
  }
 ],
 "metadata": {
  "kernelspec": {
   "display_name": "Python 3",
   "language": "python",
   "name": "python3"
  },
  "language_info": {
   "codemirror_mode": {
    "name": "ipython",
    "version": 3
   },
   "file_extension": ".py",
   "mimetype": "text/x-python",
   "name": "python",
   "nbconvert_exporter": "python",
   "pygments_lexer": "ipython3",
   "version": "3.6.3"
  }
 },
 "nbformat": 4,
 "nbformat_minor": 2
}
