{
 "cells": [
  {
   "cell_type": "markdown",
   "metadata": {},
   "source": [
    "## 循环神经网络(RNN)\n",
    "使用TensorFlow构建一个循环神经网络(LSTM)\n",
    "- 作者: Aymeric Damien\n",
    "- 代码: https://github.com/aymericdamien/TensorFlow-Examples/"
   ]
  },
  {
   "cell_type": "markdown",
   "metadata": {},
   "source": [
    "#### RNN概述\n",
    "\n",
    "<img src=\"http://colah.github.io/posts/2015-08-Understanding-LSTMs/img/RNN-unrolled.png\" alt=\"nn\" style=\"width: 600px;\"/>\n",
    "\n",
    "参考文献:\n",
    "- [Long Short Term Memory](http://deeplearning.cs.cmu.edu/pdfs/Hochreiter97_lstm.pdf), Sepp Hochreiter & Jurgen Schmidhuber, Neural Computation 9(8): 1735-1780, 1997."
   ]
  },
  {
   "cell_type": "markdown",
   "metadata": {},
   "source": [
    "#### MNIST数据集简介\n",
    "  \n",
    "该例使用了MNIST手写数字数据集。MNIST数据集包含60000个实例，其中50000作为训练集，10000作为测试集。数字的大小已经被标准化和中心化到了固定的(0,1)区间(28\\*28像素)。为了简便起见，每个图像矩阵被平铺，并转换为一个1维的numpy矩阵，其中包含784个特征点(28\\*28)  \n",
    "  \n",
    "![MNIST 数据集](http://neuralnetworksanddeeplearning.com/images/mnist_100_digits.png)  \n",
    "  \n",
    "更多细节：http://yann.lecun.com/exdb/mnist/"
   ]
  },
  {
   "cell_type": "code",
   "execution_count": 1,
   "metadata": {},
   "outputs": [],
   "source": [
    "from __future__ import print_function\n",
    "\n",
    "import tensorflow as tf\n",
    "from tensorflow.contrib import rnn"
   ]
  },
  {
   "cell_type": "markdown",
   "metadata": {},
   "source": [
    "#### 1. 导入MNIST数据集"
   ]
  },
  {
   "cell_type": "code",
   "execution_count": 2,
   "metadata": {},
   "outputs": [
    {
     "name": "stdout",
     "output_type": "stream",
     "text": [
      "Extracting data/train-images-idx3-ubyte.gz\n",
      "Extracting data/train-labels-idx1-ubyte.gz\n",
      "Extracting data/t10k-images-idx3-ubyte.gz\n",
      "Extracting data/t10k-labels-idx1-ubyte.gz\n"
     ]
    }
   ],
   "source": [
    "from tensorflow.examples.tutorials.mnist import input_data\n",
    "mnist = input_data.read_data_sets('data/',one_hot = True) #当前目录下创建一个data文件夹即可"
   ]
  },
  {
   "cell_type": "markdown",
   "metadata": {},
   "source": [
    "#### 2. 自定义参数"
   ]
  },
  {
   "cell_type": "code",
   "execution_count": 3,
   "metadata": {},
   "outputs": [],
   "source": [
    "#训练参数\n",
    "learning_rate = 0.001\n",
    "training_step = 10000\n",
    "batch_size = 128\n",
    "display_step = 200\n",
    "\n",
    "#神经网络模型参数\n",
    "num_input = 28    #MNIST输入数据（图像28*28像素）\n",
    "timesteps = 28 \n",
    "num_hidden = 128  #隐层的特征数\n",
    "num_classes = 10  #MNIST的类别数，0-9个数字\n",
    "\n",
    "#TensorFlow Graph输入\n",
    "X = tf.placeholder('float',[None,timesteps,num_input])\n",
    "Y = tf.placeholder('float',[None,num_classes])\n",
    "\n",
    "#自定义权重参数\n",
    "weights = {\n",
    "    'out':tf.Variable(tf.random_normal([num_hidden,num_classes]))\n",
    "}\n",
    "biases = {\n",
    "    'out':tf.Variable(tf.random_normal([num_classes]))\n",
    "}"
   ]
  },
  {
   "cell_type": "markdown",
   "metadata": {},
   "source": [
    "#### 3. 构建模型"
   ]
  },
  {
   "cell_type": "code",
   "execution_count": 5,
   "metadata": {
    "scrolled": true
   },
   "outputs": [
    {
     "name": "stderr",
     "output_type": "stream",
     "text": [
      "WARNING:tensorflow:From <ipython-input-5-32e6e2c80bd7>:26: softmax_cross_entropy_with_logits (from tensorflow.python.ops.nn_ops) is deprecated and will be removed in a future version.\n",
      "Instructions for updating:\n",
      "\n",
      "Future major versions of TensorFlow will allow gradients to flow\n",
      "into the labels input on backprop by default.\n",
      "\n",
      "See tf.nn.softmax_cross_entropy_with_logits_v2.\n",
      "\n"
     ]
    }
   ],
   "source": [
    "def RNN(x,weights,biases):\n",
    "    \n",
    "    #准备可以满足RNN要求的数据形式\n",
    "    #现在数据的形式：(batch_size,timesteps,n_input)\n",
    "    #需要的形式：'timestep'的一个Tenosr List：(batch_size,num_input)\n",
    "    \n",
    "    \n",
    "    #展开来得到一个'timestep'的一个Tenosr List：(batch_size,num_input)\n",
    "    x = tf.unstack(x,timesteps,1)\n",
    "    \n",
    "    #使用TensorFlow定义一个LSTM单元\n",
    "    lstm_cell = rnn.BasicLSTMCell(num_hidden,forget_bias=1.0)\n",
    "    \n",
    "    #得到LSTM单元的输出\n",
    "    outputs,states = rnn.static_rnn(lstm_cell,x,dtype = tf.float32)\n",
    "    \n",
    "    # 线性激活函数，使用RNN内循环的最后一个输出\n",
    "    return tf.matmul(outputs[-1],weights['out']) + biases['out']\n",
    "\n",
    "\n",
    "logits =  RNN(X,weights,biases)\n",
    "prediction = tf.nn.softmax(logits)\n",
    "\n",
    "#定义loss和optimizer\n",
    "loss_op = tf.reduce_mean(tf.nn.softmax_cross_entropy_with_logits(logits = logits,\n",
    "                                                                labels = Y))\n",
    "optimizer = tf.train.GradientDescentOptimizer(learning_rate= learning_rate)\n",
    "train_op = optimizer.minimize(loss_op)\n",
    "\n",
    "#模型评估（使用了test logits，没有设置dropout）\n",
    "correct_pred = tf.equal(tf.argmax(prediction,1),tf.argmax(Y,1))\n",
    "accuracy = tf.reduce_mean(tf.cast(correct_pred,tf.float32))\n",
    "\n",
    "#初始化变量\n",
    "init = tf.global_variables_initializer()"
   ]
  },
  {
   "cell_type": "markdown",
   "metadata": {},
   "source": [
    "#### 4. 训练模型"
   ]
  },
  {
   "cell_type": "code",
   "execution_count": 7,
   "metadata": {},
   "outputs": [
    {
     "name": "stdout",
     "output_type": "stream",
     "text": [
      "Step 1, Minibatch Loss= 2.8463, Training Accuracy= 0.141\n",
      "Step 200, Minibatch Loss= 2.1587, Training Accuracy= 0.227\n",
      "Step 400, Minibatch Loss= 2.0192, Training Accuracy= 0.328\n",
      "Step 600, Minibatch Loss= 1.8719, Training Accuracy= 0.391\n",
      "Step 800, Minibatch Loss= 1.7346, Training Accuracy= 0.469\n",
      "Step 1000, Minibatch Loss= 1.6994, Training Accuracy= 0.500\n",
      "Step 1200, Minibatch Loss= 1.4999, Training Accuracy= 0.594\n",
      "Step 1400, Minibatch Loss= 1.5138, Training Accuracy= 0.570\n",
      "Step 1600, Minibatch Loss= 1.3649, Training Accuracy= 0.609\n",
      "Step 1800, Minibatch Loss= 1.3557, Training Accuracy= 0.570\n",
      "Step 2000, Minibatch Loss= 1.2730, Training Accuracy= 0.570\n",
      "Step 2200, Minibatch Loss= 1.3521, Training Accuracy= 0.570\n",
      "Step 2400, Minibatch Loss= 1.2243, Training Accuracy= 0.617\n",
      "Step 2600, Minibatch Loss= 1.1484, Training Accuracy= 0.648\n",
      "Step 2800, Minibatch Loss= 1.1261, Training Accuracy= 0.641\n",
      "Step 3000, Minibatch Loss= 0.9713, Training Accuracy= 0.711\n",
      "Step 3200, Minibatch Loss= 1.0195, Training Accuracy= 0.664\n",
      "Step 3400, Minibatch Loss= 1.1129, Training Accuracy= 0.672\n",
      "Step 3600, Minibatch Loss= 1.0677, Training Accuracy= 0.633\n",
      "Step 3800, Minibatch Loss= 1.0554, Training Accuracy= 0.641\n",
      "Step 4000, Minibatch Loss= 0.9821, Training Accuracy= 0.688\n",
      "Step 4200, Minibatch Loss= 0.9938, Training Accuracy= 0.664\n",
      "Step 4400, Minibatch Loss= 0.8600, Training Accuracy= 0.742\n",
      "Step 4600, Minibatch Loss= 0.9027, Training Accuracy= 0.711\n",
      "Step 4800, Minibatch Loss= 0.7933, Training Accuracy= 0.781\n",
      "Step 5000, Minibatch Loss= 0.6441, Training Accuracy= 0.805\n",
      "Step 5200, Minibatch Loss= 0.8181, Training Accuracy= 0.750\n",
      "Step 5400, Minibatch Loss= 0.6799, Training Accuracy= 0.836\n",
      "Step 5600, Minibatch Loss= 0.6527, Training Accuracy= 0.820\n",
      "Step 5800, Minibatch Loss= 0.8248, Training Accuracy= 0.711\n",
      "Step 6000, Minibatch Loss= 0.7988, Training Accuracy= 0.742\n",
      "Step 6200, Minibatch Loss= 0.6386, Training Accuracy= 0.805\n",
      "Step 6400, Minibatch Loss= 0.6130, Training Accuracy= 0.828\n",
      "Step 6600, Minibatch Loss= 0.6350, Training Accuracy= 0.805\n",
      "Step 6800, Minibatch Loss= 0.6660, Training Accuracy= 0.734\n",
      "Step 7000, Minibatch Loss= 0.4881, Training Accuracy= 0.867\n",
      "Step 7200, Minibatch Loss= 0.4086, Training Accuracy= 0.906\n",
      "Step 7400, Minibatch Loss= 0.6770, Training Accuracy= 0.781\n",
      "Step 7600, Minibatch Loss= 0.5444, Training Accuracy= 0.852\n",
      "Step 7800, Minibatch Loss= 0.5663, Training Accuracy= 0.820\n",
      "Step 8000, Minibatch Loss= 0.5714, Training Accuracy= 0.852\n",
      "Step 8200, Minibatch Loss= 0.6027, Training Accuracy= 0.805\n",
      "Step 8400, Minibatch Loss= 0.5772, Training Accuracy= 0.828\n",
      "Step 8600, Minibatch Loss= 0.4556, Training Accuracy= 0.844\n",
      "Step 8800, Minibatch Loss= 0.5299, Training Accuracy= 0.836\n",
      "Step 9000, Minibatch Loss= 0.4108, Training Accuracy= 0.898\n",
      "Step 9200, Minibatch Loss= 0.4055, Training Accuracy= 0.875\n",
      "Step 9400, Minibatch Loss= 0.4341, Training Accuracy= 0.875\n",
      "Step 9600, Minibatch Loss= 0.4353, Training Accuracy= 0.859\n",
      "Step 9800, Minibatch Loss= 0.4766, Training Accuracy= 0.859\n",
      "Step 10000, Minibatch Loss= 0.5403, Training Accuracy= 0.867\n",
      "训练结束!\n",
      "Testing Accuracy: 0.859375\n"
     ]
    }
   ],
   "source": [
    "#开始训练\n",
    "with tf.Session() as sess:\n",
    "    \n",
    "    #初始化\n",
    "    sess.run(init)\n",
    "    \n",
    "    for step in range(1,training_step+1):\n",
    "        batch_x, batch_y = mnist.train.next_batch(batch_size)\n",
    "        #将数据变形为28个序列，每个序列含有28个元素\n",
    "        batch_x = batch_x.reshape((batch_size,timesteps,num_input))\n",
    "        u87\n",
    "        sess.run(train_op, feed_dict = {X: batch_x, Y: batch_y})\n",
    "        if step % display_step == 0 or step == 1:\n",
    "            #计算loss和accuracy\n",
    "            loss, acc = sess.run([loss_op,accuracy],feed_dict = {X:batch_x,\n",
    "                                                                 Y:batch_y})\n",
    "            \n",
    "            print(\"Step \" + str(step) + \", Minibatch Loss= \" + \\\n",
    "                  \"{:.4f}\".format(loss) + \", Training Accuracy= \" + \\\n",
    "                  \"{:.3f}\".format(acc))\n",
    "    print('训练结束!')\n",
    "    \n",
    "    \n",
    "    #在128张测试集照片中计算accuracy\n",
    "    test_len = 128\n",
    "    test_data = mnist.test.images[:test_len].reshape((-1,timesteps,num_input))\n",
    "    test_label = mnist.test.labels[:test_len]\n",
    "    print ('Testing Accuracy:',  \n",
    "          sess.run(accuracy,feed_dict = {X:test_data,Y:test_label}))"
   ]
  },
  {
   "cell_type": "code",
   "execution_count": null,
   "metadata": {},
   "outputs": [],
   "source": []
  }
 ],
 "metadata": {
  "kernelspec": {
   "display_name": "Python 3",
   "language": "python",
   "name": "python3"
  },
  "language_info": {
   "codemirror_mode": {
    "name": "ipython",
    "version": 3
   },
   "file_extension": ".py",
   "mimetype": "text/x-python",
   "name": "python",
   "nbconvert_exporter": "python",
   "pygments_lexer": "ipython3",
   "version": "3.6.3"
  }
 },
 "nbformat": 4,
 "nbformat_minor": 2
}
