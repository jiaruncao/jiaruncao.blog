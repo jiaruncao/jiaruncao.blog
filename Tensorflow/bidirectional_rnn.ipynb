{
 "cells": [
  {
   "cell_type": "markdown",
   "metadata": {},
   "source": [
    "## 双向循环神经网络(BiRNN)  \n",
    "  \n",
    "使用TensorFlow构建一个双向循环神经网络(LSTM)  \n",
    "  \n",
    "- 作者: Aymeric Damien\n",
    "- 代码: https://github.com/aymericdamien/TensorFlow-Examples/"
   ]
  },
  {
   "cell_type": "markdown",
   "metadata": {},
   "source": [
    "#### BiRNN简介\n",
    "\n",
    "<img src=\"https://ai2-s2-public.s3.amazonaws.com/figures/2016-11-08/191dd7df9cb91ac22f56ed0dfa4a5651e8767a51/1-Figure2-1.png\" alt=\"nn\" style=\"width: 600px;\"/>\n",
    "\n",
    "参考文献:\n",
    "- [Long Short Term Memory](http://deeplearning.cs.cmu.edu/pdfs/Hochreiter97_lstm.pdf), Sepp Hochreiter & Jurgen Schmidhuber, Neural Computation 9(8): 1735-1780, 1997.\n"
   ]
  },
  {
   "cell_type": "markdown",
   "metadata": {},
   "source": [
    "#### MNIST数据集简介\n",
    "  \n",
    "该例使用了MNIST手写数字数据集。MNIST数据集包含60000个实例，其中50000作为训练集，10000作为测试集。数字的大小已经被标准化和中心化到了固定的(0,1)区间(28\\*28像素)。为了简便起见，每个图像矩阵被平铺，并转换为一个1维的numpy矩阵，其中包含784个特征点(28\\*28)  \n",
    "  \n",
    "![MNIST 数据集](http://neuralnetworksanddeeplearning.com/images/mnist_100_digits.png)  \n",
    "  \n",
    "更多细节：http://yann.lecun.com/exdb/mnist/m"
   ]
  },
  {
   "cell_type": "code",
   "execution_count": 1,
   "metadata": {},
   "outputs": [],
   "source": [
    "from __future__ import print_function\n",
    "\n",
    "import tensorflow as tf\n",
    "from tensorflow.contrib import rnn\n",
    "import numpy as np"
   ]
  },
  {
   "cell_type": "markdown",
   "metadata": {},
   "source": [
    "#### 1. 导入MNIST数据"
   ]
  },
  {
   "cell_type": "code",
   "execution_count": 2,
   "metadata": {},
   "outputs": [
    {
     "name": "stdout",
     "output_type": "stream",
     "text": [
      "Extracting data/train-images-idx3-ubyte.gz\n",
      "Extracting data/train-labels-idx1-ubyte.gz\n",
      "Extracting data/t10k-images-idx3-ubyte.gz\n",
      "Extracting data/t10k-labels-idx1-ubyte.gz\n"
     ]
    }
   ],
   "source": [
    "from tensorflow.examples.tutorials.mnist import input_data\n",
    "mnist = input_data.read_data_sets(\"data/\", one_hot=True)   #当前目录下创建一个data文件夹即可"
   ]
  },
  {
   "cell_type": "markdown",
   "metadata": {},
   "source": [
    "#### 2. 自定义参数"
   ]
  },
  {
   "cell_type": "code",
   "execution_count": 8,
   "metadata": {},
   "outputs": [],
   "source": [
    "#训练参数\n",
    "learning_rate = 0.001\n",
    "training_step = 10000\n",
    "batch_size = 128\n",
    "display_step = 200\n",
    "\n",
    "#神经网络模型参数\n",
    "num_input = 28    #MNIST输入数据（图像28*28像素）\n",
    "timesteps = 28 \n",
    "num_hidden = 128  #隐层的特征数\n",
    "num_classes = 10  #MNIST的类别数，0-9个数字\n",
    "\n",
    "#TensorFlow Graph输入\n",
    "X = tf.placeholder('float',[None,timesteps,num_input])\n",
    "Y = tf.placeholder('float',[None,num_classes])\n",
    "\n",
    "#自定义权重参数\n",
    "weights = {\n",
    "    # 隐层的权重参数：2 * n_hidden ,因为包含前向和后向单元\n",
    "    'out':tf.Variable(tf.random_normal([2*num_hidden,num_classes]))\n",
    "}\n",
    "biases = {\n",
    "    'out':tf.Variable(tf.random_normal([num_classes]))\n",
    "}"
   ]
  },
  {
   "cell_type": "markdown",
   "metadata": {},
   "source": [
    "#### 3. 构建模型"
   ]
  },
  {
   "cell_type": "code",
   "execution_count": 13,
   "metadata": {},
   "outputs": [
    {
     "name": "stdout",
     "output_type": "stream",
     "text": [
      "WARNING:tensorflow:From <ipython-input-13-7a1eb1acecac>:36: softmax_cross_entropy_with_logits (from tensorflow.python.ops.nn_ops) is deprecated and will be removed in a future version.\n",
      "Instructions for updating:\n",
      "\n",
      "Future major versions of TensorFlow will allow gradients to flow\n",
      "into the labels input on backprop by default.\n",
      "\n",
      "See tf.nn.softmax_cross_entropy_with_logits_v2.\n",
      "\n"
     ]
    },
    {
     "name": "stderr",
     "output_type": "stream",
     "text": [
      "WARNING:tensorflow:From <ipython-input-13-7a1eb1acecac>:36: softmax_cross_entropy_with_logits (from tensorflow.python.ops.nn_ops) is deprecated and will be removed in a future version.\n",
      "Instructions for updating:\n",
      "\n",
      "Future major versions of TensorFlow will allow gradients to flow\n",
      "into the labels input on backprop by default.\n",
      "\n",
      "See tf.nn.softmax_cross_entropy_with_logits_v2.\n",
      "\n"
     ]
    }
   ],
   "source": [
    "def BiRNN(x,weights,biases):\n",
    "    #准备可以满足RNN要求的数据形式\n",
    "    #现在数据的形式：(batch_size,timesteps,n_input)\n",
    "    #需要的形式：'timestep'的一个Tenosr List：(batch_size,num_input)\n",
    "    \n",
    "    \n",
    "    #展开来得到一个'timestep'的一个Tenosr List：(batch_size,num_input)\n",
    "    x = tf.unstack(x,timesteps,1)\n",
    "    \n",
    "    \n",
    "    #用TensorFlow定义一个LSTM单元\n",
    "    #前向单元\n",
    "    lstm_fw_cell = rnn.BasicLSTMCell(num_hidden,forget_bias = 1.0,reuse=True)  #添加了reuse = True\n",
    "    #后向单元\n",
    "    lstm_bw_cell = rnn.BasicLSTMCell(num_hidden,forget_bias = 1.0,reuse=True)  #添加了reuse = True\n",
    "    \n",
    "    \n",
    "    #取出LSTM单元的输出\n",
    "    try:\n",
    "        outputs, _, _ = rnn.static_bidirectional_rnn(lstm_fw_cell, lstm_bw_cell, x,\n",
    "                                              dtype=tf.float32)\n",
    "    #旧版的TensorFlow只返回outputs而不返回state\n",
    "    except Exception:\n",
    "        outputs = rnn.static_bidirectional_rnn(lstm_fw_cell,lstm_bw_cell,x,\n",
    "                                              dtype = tf.float32)\n",
    "        \n",
    "    # 线性激活函数，使用RNN内循环的最后一个output\n",
    "    return tf.matmul(outputs[-1],weights['out']) + biases['out']\n",
    "\n",
    "\n",
    "\n",
    "logits = BiRNN(X,weights,biases)\n",
    "prediction = tf.nn.softmax(logits)\n",
    "\n",
    "#定义loss和optimizer\n",
    "loss_op = tf.reduce_mean(tf.nn.softmax_cross_entropy_with_logits(logits= logits,labels = Y))\n",
    "optimizer = tf.train.GradientDescentOptimizer(learning_rate= learning_rate)\n",
    "train_op = optimizer.minimize(loss_op)\n",
    "\n",
    "#模型评估（使用了test logits，没有设置dropout）\n",
    "correct_pred = tf.equal(tf.argmax(prediction,1),tf.argmax(Y,1))\n",
    "accuracy = tf.reduce_mean(tf.cast(correct_pred,tf.float32)) #tf.cast将数据格式转化成dtype\n",
    "\n",
    "#初始化变量\n",
    "init = tf.global_variables_initializer()"
   ]
  },
  {
   "cell_type": "markdown",
   "metadata": {},
   "source": [
    "#### 4. 训练模型"
   ]
  },
  {
   "cell_type": "code",
   "execution_count": 15,
   "metadata": {},
   "outputs": [
    {
     "name": "stdout",
     "output_type": "stream",
     "text": [
      "step 1, Minibatch Loss = 2.5691, Training Accuracy = 0.094\n",
      "step 200, Minibatch Loss = 2.0525, Training Accuracy = 0.320\n",
      "step 400, Minibatch Loss = 1.8990, Training Accuracy = 0.344\n",
      "step 600, Minibatch Loss = 1.8753, Training Accuracy = 0.352\n",
      "step 800, Minibatch Loss = 1.7142, Training Accuracy = 0.383\n",
      "step 1000, Minibatch Loss = 1.5996, Training Accuracy = 0.398\n",
      "step 1200, Minibatch Loss = 1.4993, Training Accuracy = 0.539\n",
      "step 1400, Minibatch Loss = 1.4508, Training Accuracy = 0.469\n",
      "step 1600, Minibatch Loss = 1.5240, Training Accuracy = 0.523\n",
      "step 1800, Minibatch Loss = 1.2338, Training Accuracy = 0.625\n",
      "step 2000, Minibatch Loss = 1.2532, Training Accuracy = 0.531\n",
      "step 2200, Minibatch Loss = 1.1183, Training Accuracy = 0.625\n",
      "step 2400, Minibatch Loss = 1.3090, Training Accuracy = 0.570\n",
      "step 2600, Minibatch Loss = 1.0804, Training Accuracy = 0.633\n",
      "step 2800, Minibatch Loss = 1.0308, Training Accuracy = 0.727\n",
      "step 3000, Minibatch Loss = 1.1369, Training Accuracy = 0.656\n",
      "step 3200, Minibatch Loss = 0.9278, Training Accuracy = 0.703\n",
      "step 3400, Minibatch Loss = 0.9988, Training Accuracy = 0.711\n",
      "step 3600, Minibatch Loss = 0.8975, Training Accuracy = 0.727\n",
      "step 3800, Minibatch Loss = 0.8509, Training Accuracy = 0.703\n",
      "step 4000, Minibatch Loss = 1.0182, Training Accuracy = 0.703\n",
      "step 4200, Minibatch Loss = 0.7678, Training Accuracy = 0.750\n",
      "step 4400, Minibatch Loss = 0.7476, Training Accuracy = 0.758\n",
      "step 4600, Minibatch Loss = 0.9162, Training Accuracy = 0.750\n",
      "step 4800, Minibatch Loss = 0.8595, Training Accuracy = 0.711\n",
      "step 5000, Minibatch Loss = 0.8395, Training Accuracy = 0.758\n",
      "step 5200, Minibatch Loss = 0.7151, Training Accuracy = 0.812\n",
      "step 5400, Minibatch Loss = 0.8027, Training Accuracy = 0.766\n",
      "step 5600, Minibatch Loss = 0.7769, Training Accuracy = 0.789\n",
      "step 5800, Minibatch Loss = 0.7147, Training Accuracy = 0.758\n",
      "step 6000, Minibatch Loss = 0.7812, Training Accuracy = 0.727\n",
      "step 6200, Minibatch Loss = 0.6309, Training Accuracy = 0.781\n",
      "step 6400, Minibatch Loss = 0.7887, Training Accuracy = 0.703\n",
      "step 6600, Minibatch Loss = 0.6863, Training Accuracy = 0.758\n",
      "step 6800, Minibatch Loss = 0.5712, Training Accuracy = 0.812\n",
      "step 7000, Minibatch Loss = 0.6083, Training Accuracy = 0.781\n",
      "step 7200, Minibatch Loss = 0.6090, Training Accuracy = 0.812\n",
      "step 7400, Minibatch Loss = 0.6870, Training Accuracy = 0.781\n",
      "step 7600, Minibatch Loss = 0.5716, Training Accuracy = 0.812\n",
      "step 7800, Minibatch Loss = 0.4741, Training Accuracy = 0.836\n",
      "step 8000, Minibatch Loss = 0.5846, Training Accuracy = 0.852\n",
      "step 8200, Minibatch Loss = 0.4477, Training Accuracy = 0.875\n",
      "step 8400, Minibatch Loss = 0.4879, Training Accuracy = 0.836\n",
      "step 8600, Minibatch Loss = 0.6712, Training Accuracy = 0.734\n",
      "step 8800, Minibatch Loss = 0.4988, Training Accuracy = 0.852\n",
      "step 9000, Minibatch Loss = 0.4115, Training Accuracy = 0.875\n",
      "step 9200, Minibatch Loss = 0.4723, Training Accuracy = 0.836\n",
      "step 9400, Minibatch Loss = 0.5247, Training Accuracy = 0.859\n",
      "step 9600, Minibatch Loss = 0.5106, Training Accuracy = 0.875\n",
      "step 9800, Minibatch Loss = 0.3343, Training Accuracy = 0.906\n",
      "step 10000, Minibatch Loss = 0.3701, Training Accuracy = 0.852\n",
      "训练结束!\n",
      "Testing Accuracy : 0.890625\n"
     ]
    }
   ],
   "source": [
    "#开始训练\n",
    "with tf.Session() as sess:\n",
    "    \n",
    "    #初始化\n",
    "    sess.run(init)\n",
    "    \n",
    "    for step in range(1 , training_step + 1):\n",
    "        batch_x ,batch_y = mnist.train.next_batch(batch_size)\n",
    "        #将数据变形为28个序列，每个序列含有28个元素\n",
    "        batch_x = batch_x.reshape((batch_size,timesteps,num_input))\n",
    "        #运行optimizer（后向传播）\n",
    "        sess.run(train_op,feed_dict = {X : batch_x,Y : batch_y})\n",
    "        if step % display_step == 0 or step == 1 :\n",
    "            #计算batch loss和accuracy\n",
    "            loss, acc = sess.run([loss_op,accuracy],feed_dict = {X : batch_x,Y : batch_y})\n",
    "            print('step ' +str(step) + ', Minibatch Loss = ' + \\\n",
    "                 '{:.4f}'.format(loss) + ', Training Accuracy = ' + \\\n",
    "                 '{:.3f}'.format(acc))\n",
    "    print ('训练结束!')\n",
    "    \n",
    "    \n",
    "    #在128张测试集照片中计算accuracy\n",
    "    test_len = 128\n",
    "    test_data = mnist.test.images[:test_len].reshape((-1,timesteps,num_input))\n",
    "    test_label = mnist.test.labels[:test_len]\n",
    "    print ('Testing Accuracy :', sess.run(accuracy,feed_dict = {X:test_data,Y:test_label}))"
   ]
  },
  {
   "cell_type": "code",
   "execution_count": null,
   "metadata": {},
   "outputs": [],
   "source": []
  }
 ],
 "metadata": {
  "kernelspec": {
   "display_name": "Python 3",
   "language": "python",
   "name": "python3"
  },
  "language_info": {
   "codemirror_mode": {
    "name": "ipython",
    "version": 3
   },
   "file_extension": ".py",
   "mimetype": "text/x-python",
   "name": "python",
   "nbconvert_exporter": "python",
   "pygments_lexer": "ipython3",
   "version": "3.6.3"
  }
 },
 "nbformat": 4,
 "nbformat_minor": 2
}
